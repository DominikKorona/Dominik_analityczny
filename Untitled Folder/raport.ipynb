{
 "cells": [
  {
   "cell_type": "markdown",
   "metadata": {},
   "source": [
    "# TEMAT №10 Szeregi czasowe (ang. time series)\n",
    "\n",
    " \n",
    " ### Czym są szeregi czasowe? \n",
    " Szereg czasowy jest zbiorem obserwacji dokonywanych w równych odstępach czasu. \n",
    " Służy do przewidywania przyszlych wartości w oparciu o poprzednie obserwacje, do których zalicza się;\n",
    " - prognozowania biznesowe (kursy walut, giełda...)\n",
    " - zrozumienia przeszlych zachowań i zaobserwowania przyszlych;\n",
    " - oszacowanie bieżących osiągnięć.\n",
    " \n",
    " Do analizy i prognozowania szeregów czasowych w Python stosowano bibliotekę  statsmodels.tsa.api, która zawiera modele i metody szeregów czasowych. Importowane kanonicznie przy użyciu importu statsmodels.tsa.api jako tsa.\n",
    "API skupia się na modelach i najczęściej używanych testach statystycznych oraz narzędziach. Ścieżki importu i struktura wyjaśnia projekt dwóch modułów API i jak importowanie z API różni się od bezpośredniego importowania z modułu, w którym zdefiniowany jest model. Więcej informacji znajdziesz w dokumentacji https://www.statsmodels.org/stable/api.html. \n",
    "##### Podstawowe komponenty szeregów czasowych:\n",
    "- trend\n",
    "- sezonowość\n",
    "- cykliczność\n",
    "#### Co to jest Stacjonarność?\n",
    "Szereg czasowy jest stacjonarny gdy z biegiem czasu zachowuje sie w sposów szczególny, istnieje bardzo duże prawdopodobieństwo, że w przyszlości będę postepować tak samo.\n",
    "#### Sprawdzić szereg na stacjonarność można za pomocą:\n",
    "- Rozszerzonego testu Dickeya-Fullera (ADF)\n",
    "- Przekształcenia logarytmicznego (Box-Cox)\n",
    "- Dekompozycji trendu sezonowego\n",
    "- Usuwania trendów poprzez różnicowanie\n",
    "- Naprawiania niestałej wariancji + usuwanie trendu.\n",
    "#### Co wskazuje że szereg jest stacjonarnym:\n",
    "- stała średnia;\n",
    "- stala wariancja;\n",
    "- autokowariancja jest niezależna od czasu.\n",
    "\n"
   ]
  },
  {
   "cell_type": "markdown",
   "metadata": {},
   "source": [
    "## Czym jest autoregresja? \n",
    "Podstawowa koncepcja polega na tym, że prognozujemy interesujące szeregi czasowe y  zakładając, że mają one liniową zależność z innymi szeregami czasowymi x.\n",
    "Autoregresja – to jest regresja statystyczna w której zmienna objaśniana jest przyszłą wartością ciągu, a zmienna objaśniająca to wartości ciągu czasowego z przeszłości. \n",
    "Zmienna prognozowana y jest nazywana także zależną lub objaśnianą. Zmienne predyktorów x są nazywane zmiennymi niezależnymi lub objaśniającymi.\n",
    "Na przykład możemy prognozować miesięczną sprzedaż y, korzystając z całkowitych wydatków na reklamę x jako predyktora. Albo możemy prognozować dzienne zapotrzebowanie na energię elektryczną y używając temperatury x1 i dnia tygodnia x2 jako predyktorów.\n",
    "\n",
    "###  Najczęściej stosowane modele statystyczne do prognozowania szeregów czasowych\n",
    "\n",
    "#### - Wygładzanie wykładnicze \n",
    "Metoda obróbki szeregu czasowego zmniejszająca jego wariancję za pomocą ważonej średniej ruchomej z przeszłych wartości, o wagach malejących wykładniczo wraz z odległością w czasie. Stosowana do prostego usuwania szumu lub wizualizacji różnych danych. Jest również przydatna w prognozowaniu szeregów czasowych o niewielkim stosunku sygnału do szumu, szczególnie niemających wyraźnego trendu i wahań sezonowych.\n",
    "\n",
    "\n",
    "#### - AR (model autoregresyjny)\n",
    "Modele, w których bieżące wartości szeregu wyrażają się jako liniowe funkcje poprzednich obserwacji, nazywają się modelami autoregresji. Jeżeli bieżąca wartość ciągu xn zależy liniowo tylko od jednej poprzedniej wartości x_(n-1), to taki model jest modelem autoregresji pierwszego rzędu, co oznaczamy jako AR(1). Jeżeli bieżąca wartość ciągu xn zależy liniowo od p poprzednich wartości xn-1,…,xn-p, to taki model jest modelem autoregresji rzędu p, AR(p). \n",
    "\n",
    "\n",
    "#### - MA (model średniej ruchomej)\n",
    "Proces ze średnią ruchomą, jest regresją liniową bieżącej wartości szeregów w odniesieniu do poprzednich wartości błędu, związanych z białym szumem lub przypadkowymi zaburzeniami. Zakłada się, że takie przypadkowe zaburzenia w każdym z punktów pochodzą z tego samego rozkładu, zwykle rozkładu normalnego z zerową wartością oczekiwaną i stałą wariancją. \n",
    "\n",
    "\n",
    "#### - ARMA (model autoregresji ze średnią ruchomą)-  obejmuje dwa proste modele ciągów czasowych AR oraz MA. \n",
    "Użyteczność modeli ARMA polega na ich oszczędnej reprezentacji. Podobnie jak w przypadku AR i MA, właściwości modeli ARMA można zwykle scharakteryzować za pomocą ich funkcji autokorelacji. Modele ARMA są używane do opisu stacjonarnych ciągów czasowych. Także niektóre rodzaje niestacjonarności można sprowadzać do procesów stacjonarnych przez tworzenie procesów różnic i dalej stosować np.  modele ARMA.\n",
    "\n",
    "\n",
    "#### - ARIMA (zintegrowany model autoregresji ze średnią ruchomą)\n",
    "jest złożony z następujących elementów: autoregresja (AR), całkowanie (I) oraz średnia ruchoma (MA). ARIMA jest formą analizy regresji, która mierzy siłę jednej zmiennej zależnej w stosunku do innych zmiennych. Model ten jest szeroko stosowany do prognozowania przyszłych wartości danych, badając różnice między wartościami w ciągach zamiast wartości oryginalnych. Modele zintegrowane służą do opisów procesów stochastycznych niestacjonarnych.\n",
    "ARIMA z parametrami p, d i q, gdzie:\n",
    "p - liczba opóźnień obserwacji w modelu.\n",
    "d - stopień różnicy.\n",
    "q - zakres średniej ruchomej.\n",
    "\n",
    "\n",
    "## Dobór modelu\n",
    "\n",
    "#### 1. Test ADF (rozszerzony test Dickeya-Fullera)\n",
    "Dla sprawdzenia stacjonarności ciągu robimy analizę za pomocą rozszerzonego testu Dickeya Fullera (ADF). Przy analizie testu ADF warto zwrócić uwagę, że hipoteza zerowa wskazuje na istnienia niestacjonarności. Jeżeli obliczona wartość p jest mniejsza od zadanej alfa, to ta hipoteza zerowa zostaje odrzucona, a ciąg  jest stacjonarny. W przeciwnym razie dane są niestacjonarne.\n",
    "\n",
    "#### 2. ACF i PACF \n",
    "\n",
    "Autokorelacja i autokorelacja cząstkowa to miary związków między bieżącymi i przeszłymi wartościami szeregów określające, które przeszłe wartości szeregów są najbardziej użyteczne przy przewidywaniu przyszłych wartości. Dzięki tej wiedzy można określić kolejność procesów w modelu ARIMA. Dokładniej rzecz ujmując:\n",
    "\n",
    "##### Funkcja autokorelacji (ACF).\n",
    "Przy przesunięciu k jest to korelacja między wartościami szeregu oddalonymi o k przedziałów od siebie.\n",
    "Występuje wtedy, gdy skutki działania zmienności losowej nie wygasają w danym okresie t, lecz są przenoszone na okresy przyszłe. \n",
    "plot_acf()\n",
    "http://drizzt.home.amu.edu.pl/images/DADA/W7.pdf\n",
    "\n",
    "##### Funkcja autokorelacji cząstkowej (PACF). \n",
    "jak sama nazwa wskazuje, PACF jest podzbiorem funkcji autokorelacji (ACF). Przy przesunięciu k jest to korelacja między wartościami szeregu oddalonymi o k przedziałów od siebie, z jednoczesną rejestracją wartości z przedziałów znajdujących się pomiędzy.\n",
    "ACF i PACF stosowane są do wyboru rzędu modeli.  PACF pokazuje zależność między xn a poprzednimi wartościami, pomijając wpływ pośrednich opóźnień.\n",
    "plot_pacf()\n",
    "\n",
    "Oś x wykresu ACF wskazuje przesunięcie, dla jakiego obliczana jest autokorelacja; oś y wskazuje wartość korelacji (między −1 a 1). Na przykład linia rzutowania przy przesunięciu wynoszącym 1 na wykresie ACF oznacza silną korelację między każdą wartością szeregu a wartością poprzedzającą, zaś linia rzutowania przy przesunięciu wynoszącym 2 oznacza silną korelację między każdą wartością a wartością występującą dwa punkty wcześniej itd.\n",
    "Korelacja dodatnia oznacza, że duże wartości bieżące odpowiadają dużym wartościom dla danego przesunięcia; ujemna korelacja oznacza, że duże wartości bieżące odpowiadają niewielkim wartościom dla danego przesunięcia.\n",
    "Wartość bezwzględna korelacji stanowi miarę siły powiązania, przy czym większe wartości bezwzględne oznaczają silniejsze relacje.\n",
    "\n",
    "#### 3. AIC (kryterium informacyjne Akaikego)\n",
    "jest estymatorem błędu predykcji w próbie, a tym samym względnej jakości modeli statystycznych dla danego zbioru danych. Jest to jeden ze wskaźników dopasowania modelu, który stosuje się do wyznaczenia miary jakości modeli statystycznych dla badanego zbioru danych. To jak błąd średniokwadratowy w autoregresji — im mniejsza liczba, tym lepiej jest dopasowany model. Na ogół model o większej liczbie predyktorów (parametrów) daje dokładniejsze przewidywania, ponadto ma większą skłonność do przeuczenia. Kryteria informacyjne są nazywane metodami porównywania modeli dla zmiennej zależnej, i stosowane są do wyboru najlepszego modelu.\n",
    "\n"
   ]
  },
  {
   "cell_type": "markdown",
   "metadata": {},
   "source": [
    "## Biblioteki\n",
    "\n",
    "- pip install numpy scipy scikit-learn  #--- to the anaconda terminal\n",
    "- pip install --user pmdarima   #---installing auto-arima\n",
    "- pip install -U statsmodels   #---instaling  statsmodels\n",
    "- import pandas as pd\n",
    "- from pandas import DataFrame\n",
    "- import datetime \n",
    "- from matplotlib import pyplot\n",
    "- import matplotlib.pyplot as plt\n",
    "- from statsmodels.tsa.stattools import adfuller\n",
    "- from statsmodels.graphics.tsaplots import plot_acf, plot_pacf\n",
    "- from statsmodels.tsa.arima.model import ARIMA\n",
    "- import pmdarima as pm\n",
    "- from pmdarima import model_selection\n",
    "- import numpy as np\n",
    "- %matplotlib inline\n"
   ]
  },
  {
   "cell_type": "markdown",
   "metadata": {},
   "source": [
    "# Zadanie do ćwiczenia   \n",
    "### Na podstawie danych zawartych w pliku analiza.csv wykonaj następne punkty:\n",
    "#### 1) Zaimportuj niezbędne biblioteki do szeregów czasowych (https://www.statsmodels.org/stable/api.html), a także biblioteki do operacji na danych oraz tworzenia wykresów.\n",
    "#### 2) Odczytaj dane z pliku analiza.csv. Pomocne w interpretacji danych są metody: head(), describe(), len(), shape.\n",
    "#### 3) Wykonaj wstępny wykres uzyskanych danych (typu \"scatter\") https://miroslawmamczur.pl/006-wykres-rozrzutu-scatter-plot/\n",
    "#### 4) Oblicz ADF (p-value, 'ADF Statistic)\n",
    "#### 5) Wykonaj wykres ACF\n",
    "#### 6) Wykonaj wykres PACF\n",
    "#### 7) Podzieł szereg na dane na treningowe i testowe oraz oblicz kryterium  AIC dla modelu ARIMA (3,0.1) (results.summary())\n",
    "#### 8) Za pomocą funkcji AUTO-ARIMA dobierz najlepszy model dla prognozy.\n",
    "#### 9) Zrób wykreś do prognozy\n",
    "#### 10) Wnioski"
   ]
  },
  {
   "cell_type": "markdown",
   "metadata": {},
   "source": [
    "# Rozwiązanie "
   ]
  },
  {
   "cell_type": "markdown",
   "metadata": {},
   "source": [
    "###  1) Zaimportuj niezbędne biblioteki do szeregów czasowych a także biblioteki do operacji na danych oraz tworzenia wykresów\n"
   ]
  },
  {
   "cell_type": "code",
   "execution_count": 14,
   "metadata": {},
   "outputs": [],
   "source": [
    "import numpy as np\n",
    "from pmdarima import model_selection\n",
    "import pmdarima as pm\n",
    "import pandas as pd\n",
    "from pandas import DataFrame\n",
    "import datetime\n",
    "from matplotlib import pyplot\n",
    "import matplotlib.pyplot as plt\n",
    "from statsmodels.tsa.stattools import adfuller\n",
    "from statsmodels.graphics.tsaplots import plot_acf, plot_pacf\n",
    "from statsmodels.tsa.arima.model import ARIMA\n",
    "%matplotlib inline"
   ]
  },
  {
   "cell_type": "markdown",
   "metadata": {},
   "source": [
    "### 2) Odczytaj dane z pliku analiza.csv. Pomocne w interpretacji danych są metody: head(), describe(), len(), shape.\n"
   ]
  },
  {
   "cell_type": "code",
   "execution_count": 15,
   "metadata": {},
   "outputs": [
    {
     "data": {
      "text/html": [
       "<div>\n",
       "<style scoped>\n",
       "    .dataframe tbody tr th:only-of-type {\n",
       "        vertical-align: middle;\n",
       "    }\n",
       "\n",
       "    .dataframe tbody tr th {\n",
       "        vertical-align: top;\n",
       "    }\n",
       "\n",
       "    .dataframe thead th {\n",
       "        text-align: right;\n",
       "    }\n",
       "</style>\n",
       "<table border=\"1\" class=\"dataframe\">\n",
       "  <thead>\n",
       "    <tr style=\"text-align: right;\">\n",
       "      <th></th>\n",
       "      <th>Data</th>\n",
       "      <th>Rezerwacja</th>\n",
       "    </tr>\n",
       "  </thead>\n",
       "  <tbody>\n",
       "    <tr>\n",
       "      <th>0</th>\n",
       "      <td>1949-01</td>\n",
       "      <td>112</td>\n",
       "    </tr>\n",
       "    <tr>\n",
       "      <th>1</th>\n",
       "      <td>1949-02</td>\n",
       "      <td>118</td>\n",
       "    </tr>\n",
       "    <tr>\n",
       "      <th>2</th>\n",
       "      <td>1949-03</td>\n",
       "      <td>132</td>\n",
       "    </tr>\n",
       "    <tr>\n",
       "      <th>3</th>\n",
       "      <td>1949-04</td>\n",
       "      <td>129</td>\n",
       "    </tr>\n",
       "    <tr>\n",
       "      <th>4</th>\n",
       "      <td>1949-05</td>\n",
       "      <td>121</td>\n",
       "    </tr>\n",
       "    <tr>\n",
       "      <th>5</th>\n",
       "      <td>1949-06</td>\n",
       "      <td>135</td>\n",
       "    </tr>\n",
       "    <tr>\n",
       "      <th>6</th>\n",
       "      <td>1949-07</td>\n",
       "      <td>148</td>\n",
       "    </tr>\n",
       "  </tbody>\n",
       "</table>\n",
       "</div>"
      ],
      "text/plain": [
       "      Data  Rezerwacja\n",
       "0  1949-01         112\n",
       "1  1949-02         118\n",
       "2  1949-03         132\n",
       "3  1949-04         129\n",
       "4  1949-05         121\n",
       "5  1949-06         135\n",
       "6  1949-07         148"
      ]
     },
     "execution_count": 15,
     "metadata": {},
     "output_type": "execute_result"
    }
   ],
   "source": [
    "import pandas \n",
    "analysis = pandas.read_csv(\"analiza.csv\", sep = \",\", decimal = \",\")\n",
    "analysis.head(7)"
   ]
  },
  {
   "cell_type": "code",
   "execution_count": 16,
   "metadata": {},
   "outputs": [
    {
     "data": {
      "text/plain": [
       "144"
      ]
     },
     "execution_count": 16,
     "metadata": {},
     "output_type": "execute_result"
    }
   ],
   "source": [
    "len(analysis)"
   ]
  },
  {
   "cell_type": "code",
   "execution_count": 17,
   "metadata": {},
   "outputs": [
    {
     "data": {
      "text/html": [
       "<div>\n",
       "<style scoped>\n",
       "    .dataframe tbody tr th:only-of-type {\n",
       "        vertical-align: middle;\n",
       "    }\n",
       "\n",
       "    .dataframe tbody tr th {\n",
       "        vertical-align: top;\n",
       "    }\n",
       "\n",
       "    .dataframe thead th {\n",
       "        text-align: right;\n",
       "    }\n",
       "</style>\n",
       "<table border=\"1\" class=\"dataframe\">\n",
       "  <thead>\n",
       "    <tr style=\"text-align: right;\">\n",
       "      <th></th>\n",
       "      <th>Rezerwacja</th>\n",
       "    </tr>\n",
       "  </thead>\n",
       "  <tbody>\n",
       "    <tr>\n",
       "      <th>count</th>\n",
       "      <td>144.000000</td>\n",
       "    </tr>\n",
       "    <tr>\n",
       "      <th>mean</th>\n",
       "      <td>280.298611</td>\n",
       "    </tr>\n",
       "    <tr>\n",
       "      <th>std</th>\n",
       "      <td>119.966317</td>\n",
       "    </tr>\n",
       "    <tr>\n",
       "      <th>min</th>\n",
       "      <td>104.000000</td>\n",
       "    </tr>\n",
       "    <tr>\n",
       "      <th>25%</th>\n",
       "      <td>180.000000</td>\n",
       "    </tr>\n",
       "    <tr>\n",
       "      <th>50%</th>\n",
       "      <td>265.500000</td>\n",
       "    </tr>\n",
       "    <tr>\n",
       "      <th>75%</th>\n",
       "      <td>360.500000</td>\n",
       "    </tr>\n",
       "    <tr>\n",
       "      <th>max</th>\n",
       "      <td>622.000000</td>\n",
       "    </tr>\n",
       "  </tbody>\n",
       "</table>\n",
       "</div>"
      ],
      "text/plain": [
       "       Rezerwacja\n",
       "count  144.000000\n",
       "mean   280.298611\n",
       "std    119.966317\n",
       "min    104.000000\n",
       "25%    180.000000\n",
       "50%    265.500000\n",
       "75%    360.500000\n",
       "max    622.000000"
      ]
     },
     "execution_count": 17,
     "metadata": {},
     "output_type": "execute_result"
    }
   ],
   "source": [
    "analysis.describe()"
   ]
  },
  {
   "cell_type": "code",
   "execution_count": 18,
   "metadata": {},
   "outputs": [
    {
     "data": {
      "text/plain": [
       "(144, 2)"
      ]
     },
     "execution_count": 18,
     "metadata": {},
     "output_type": "execute_result"
    }
   ],
   "source": [
    "analysis.shape"
   ]
  },
  {
   "cell_type": "markdown",
   "metadata": {},
   "source": [
    "### 3) Wykonaj wstępny wykres uzyskanych danych \n"
   ]
  },
  {
   "cell_type": "code",
   "execution_count": 19,
   "metadata": {},
   "outputs": [
    {
     "data": {
      "image/png": "[encoded data removed]",
      "text/plain": [
       "<Figure size 432x288 with 1 Axes>"
      ]
     },
     "metadata": {
      "needs_background": "light"
     },
     "output_type": "display_data"
    }
   ],
   "source": [
    "diagram=analysis[['Rezerwacja']]\n",
    "diagram.head()\n",
    "plt.plot(diagram)\n",
    "plt.grid()"
   ]
  },
  {
   "cell_type": "markdown",
   "metadata": {},
   "source": [
    "### 4) Oblicz ADF"
   ]
  },
  {
   "cell_type": "code",
   "execution_count": 20,
   "metadata": {},
   "outputs": [
    {
     "name": "stdout",
     "output_type": "stream",
     "text": [
      "The test statistic is: 0.991880\n",
      "MacKinnon’s approximate p-value based on MacKinnon is: 0.815369\n"
     ]
    }
   ],
   "source": [
    "#ADF rozszerzony Test Dickeya-Fullera dla sprawdzenia stacjonarności\n",
    "\n",
    "from pandas import read_csv\n",
    "from statsmodels.tsa.stattools import adfuller\n",
    "\n",
    "anal = read_csv('analiza.csv', header=0, index_col=0)\n",
    "result = adfuller(anal.values)\n",
    "print('The test statistic is: %f' % result[1])\n",
    "print('MacKinnon’s approximate p-value based on MacKinnon is: %f' % result[0])\n",
    " "
   ]
  },
  {
   "cell_type": "markdown",
   "metadata": {},
   "source": [
    "### 5) Wykonaj wykres ACF\n"
   ]
  },
  {
   "cell_type": "code",
   "execution_count": 21,
   "metadata": {},
   "outputs": [
    {
     "data": {
      "image/png": "[encoded data removed]",
      "text/plain": [
       "<Figure size 432x288 with 1 Axes>"
      ]
     },
     "metadata": {
      "needs_background": "light"
     },
     "output_type": "display_data"
    }
   ],
   "source": [
    "#ACF wykres funkcji autokorelacji \n",
    "plot_acf(anal,zero=False, lags=10)\n",
    "plt.show()"
   ]
  },
  {
   "cell_type": "markdown",
   "metadata": {},
   "source": [
    "### 6) Wykonaj wykres PACF\n"
   ]
  },
  {
   "cell_type": "code",
   "execution_count": 22,
   "metadata": {},
   "outputs": [
    {
     "name": "stderr",
     "output_type": "stream",
     "text": [
      "C:\\Users\\Dell\\anaconda3\\lib\\site-packages\\statsmodels\\graphics\\tsaplots.py:348: FutureWarning: The default method 'yw' can produce PACF values outside of the [-1,1] interval. After 0.13, the default will change tounadjusted Yule-Walker ('ywm'). You can use this method now by setting method='ywm'.\n",
      "  warnings.warn(\n"
     ]
    },
    {
     "data": {
      "image/png": "[encoded data removed]",
      "text/plain": [
       "<Figure size 432x288 with 1 Axes>"
      ]
     },
     "metadata": {
      "needs_background": "light"
     },
     "output_type": "display_data"
    }
   ],
   "source": [
    "#PACF - wykres częsciowej funkcji autokorelacji\n",
    "plot_pacf(anal,zero=False, lags=10)\n",
    "plt.show()"
   ]
  },
  {
   "cell_type": "markdown",
   "metadata": {},
   "source": [
    "### 7) Podzieł szereg na dane treningowe i testowe wędlug uznania oraz oblicz kryterium  AIC dla modelu ARIMA (3,0,1) (results.summary())"
   ]
  },
  {
   "cell_type": "code",
   "execution_count": 23,
   "metadata": {},
   "outputs": [
    {
     "name": "stdout",
     "output_type": "stream",
     "text": [
      "                               SARIMAX Results                                \n",
      "==============================================================================\n",
      "Dep. Variable:                      y   No. Observations:                  106\n",
      "Model:                 ARIMA(3, 0, 1)   Log Likelihood                -483.726\n",
      "Date:                Thu, 22 Dec 2022   AIC                            979.452\n",
      "Time:                        18:47:59   BIC                            995.432\n",
      "Sample:                             0   HQIC                           985.929\n",
      "                                - 106                                         \n",
      "Covariance Type:                  opg                                         \n",
      "==============================================================================\n",
      "                 coef    std err          z      P>|z|      [0.025      0.975]\n",
      "------------------------------------------------------------------------------\n",
      "const        229.2032     41.783      5.486      0.000     147.311     311.096\n",
      "ar.L1          0.4709      0.122      3.866      0.000       0.232       0.710\n",
      "ar.L2          0.5572      0.150      3.710      0.000       0.263       0.852\n",
      "ar.L3         -0.1220      0.102     -1.190      0.234      -0.323       0.079\n",
      "ma.L1          0.9317      0.060     15.546      0.000       0.814       1.049\n",
      "sigma2       521.0119     89.706      5.808      0.000     345.191     696.833\n",
      "===================================================================================\n",
      "Ljung-Box (L1) (Q):                   0.00   Jarque-Bera (JB):                 4.00\n",
      "Prob(Q):                              1.00   Prob(JB):                         0.14\n",
      "Heteroskedasticity (H):               3.88   Skew:                             0.41\n",
      "Prob(H) (two-sided):                  0.00   Kurtosis:                         2.52\n",
      "===================================================================================\n",
      "\n",
      "Warnings:\n",
      "[1] Covariance matrix calculated using the outer product of gradients (complex-step).\n"
     ]
    }
   ],
   "source": [
    "#ARIMA\n",
    "\n",
    "X = anal.values\n",
    "train = X[0:106] # dane treningowe\n",
    "test = X[106:]  #dane testowe\n",
    "predictions = [train, test]\n",
    "model = ARIMA(train, order=(3,0,1))\n",
    "results = model.fit()\n",
    "print(results.summary())\n"
   ]
  },
  {
   "cell_type": "markdown",
   "metadata": {},
   "source": [
    "### 8) Za pomocą funkcji AUTO-ARIMA dobierz najlepszy model dla prognozy."
   ]
  },
  {
   "cell_type": "code",
   "execution_count": 24,
   "metadata": {},
   "outputs": [
    {
     "name": "stdout",
     "output_type": "stream",
     "text": [
      "Performing stepwise search to minimize aic\n",
      " ARIMA(2,1,2)(0,0,0)[0] intercept   : AIC=inf, Time=0.19 sec\n",
      " ARIMA(0,1,0)(0,0,0)[0] intercept   : AIC=981.938, Time=0.01 sec\n",
      " ARIMA(1,1,0)(0,0,0)[0] intercept   : AIC=975.827, Time=0.03 sec\n",
      " ARIMA(0,1,1)(0,0,0)[0] intercept   : AIC=970.608, Time=0.03 sec\n",
      " ARIMA(0,1,0)(0,0,0)[0]             : AIC=980.745, Time=0.02 sec\n",
      " ARIMA(1,1,1)(0,0,0)[0] intercept   : AIC=966.476, Time=0.05 sec\n",
      " ARIMA(2,1,1)(0,0,0)[0] intercept   : AIC=inf, Time=0.16 sec\n",
      " ARIMA(1,1,2)(0,0,0)[0] intercept   : AIC=inf, Time=0.12 sec\n",
      " ARIMA(0,1,2)(0,0,0)[0] intercept   : AIC=966.499, Time=0.05 sec\n",
      " ARIMA(2,1,0)(0,0,0)[0] intercept   : AIC=971.036, Time=0.04 sec\n",
      " ARIMA(1,1,1)(0,0,0)[0]             : AIC=965.072, Time=0.04 sec\n",
      " ARIMA(0,1,1)(0,0,0)[0]             : AIC=968.992, Time=0.02 sec\n",
      " ARIMA(1,1,0)(0,0,0)[0]             : AIC=974.202, Time=0.02 sec\n",
      " ARIMA(2,1,1)(0,0,0)[0]             : AIC=962.188, Time=0.03 sec\n",
      " ARIMA(2,1,0)(0,0,0)[0]             : AIC=969.879, Time=0.02 sec\n",
      " ARIMA(3,1,1)(0,0,0)[0]             : AIC=964.169, Time=0.09 sec\n",
      " ARIMA(2,1,2)(0,0,0)[0]             : AIC=962.247, Time=0.04 sec\n",
      " ARIMA(1,1,2)(0,0,0)[0]             : AIC=961.038, Time=0.05 sec\n",
      " ARIMA(0,1,2)(0,0,0)[0]             : AIC=965.562, Time=0.03 sec\n",
      " ARIMA(1,1,3)(0,0,0)[0]             : AIC=962.831, Time=0.07 sec\n",
      " ARIMA(0,1,3)(0,0,0)[0]             : AIC=966.003, Time=0.05 sec\n",
      " ARIMA(2,1,3)(0,0,0)[0]             : AIC=961.897, Time=0.14 sec\n",
      "\n",
      "Best model:  ARIMA(1,1,2)(0,0,0)[0]          \n",
      "Total fit time: 1.305 seconds\n"
     ]
    }
   ],
   "source": [
    "#AUTO-ARIMA\n",
    "model_ar=pm.auto_arima(train, exogenous=None, seasonal=False, m=1, d=1, D=1,   #pm.auto.arima\n",
    "                     max_p=4, max_q=3, trace=True, error_action='ignore', \n",
    "                     suppress_warning=True)\n",
    "# print(model_ar.summary())"
   ]
  },
  {
   "cell_type": "code",
   "execution_count": 25,
   "metadata": {},
   "outputs": [
    {
     "name": "stdout",
     "output_type": "stream",
     "text": [
      "                               SARIMAX Results                                \n",
      "==============================================================================\n",
      "Dep. Variable:                      y   No. Observations:                  106\n",
      "Model:               SARIMAX(1, 1, 2)   Log Likelihood                -476.519\n",
      "Date:                Thu, 22 Dec 2022   AIC                            961.038\n",
      "Time:                        18:48:06   BIC                            971.654\n",
      "Sample:                             0   HQIC                           965.340\n",
      "                                - 106                                         \n",
      "Covariance Type:                  opg                                         \n",
      "==============================================================================\n",
      "                 coef    std err          z      P>|z|      [0.025      0.975]\n",
      "------------------------------------------------------------------------------\n",
      "ar.L1          0.5071      0.140      3.614      0.000       0.232       0.782\n",
      "ma.L1         -0.1863      0.127     -1.462      0.144      -0.436       0.063\n",
      "ma.L2         -0.5667      0.084     -6.712      0.000      -0.732      -0.401\n",
      "sigma2       508.6453     94.017      5.410      0.000     324.375     692.916\n",
      "===================================================================================\n",
      "Ljung-Box (L1) (Q):                   0.47   Jarque-Bera (JB):                 4.04\n",
      "Prob(Q):                              0.49   Prob(JB):                         0.13\n",
      "Heteroskedasticity (H):               4.32   Skew:                             0.22\n",
      "Prob(H) (two-sided):                  0.00   Kurtosis:                         2.15\n",
      "===================================================================================\n",
      "\n",
      "Warnings:\n",
      "[1] Covariance matrix calculated using the outer product of gradients (complex-step).\n"
     ]
    }
   ],
   "source": [
    "print(model_ar.summary())"
   ]
  },
  {
   "cell_type": "markdown",
   "metadata": {},
   "source": [
    "# Wykonaj wykres prognozy"
   ]
  },
  {
   "cell_type": "code",
   "execution_count": 49,
   "metadata": {},
   "outputs": [
    {
     "data": {
      "image/png": "[encoded data removed]",
      "text/plain": [
       "<Figure size 432x288 with 1 Axes>"
      ]
     },
     "metadata": {
      "needs_background": "light"
     },
     "output_type": "display_data"
    }
   ],
   "source": [
    "# plot\n",
    "forecast = model_ar.predict_in_sample(start=96, end=144)\n",
    "\n",
    "#plot the predictions for validation set\n",
    "plt.plot(train, label='Train values')\n",
    "plt.plot(range(106, 106+len(test)),test, label='Test values')\n",
    "plt.plot(range(96, 96+len(forecast)),forecast, label='Predicted values')\n",
    "plt.title('Auto-ARIMA model predictions')\n",
    "plt.xlabel('Sample index')\n",
    "plt.ylabel('Sample value')\n",
    "plt.legend()\n",
    "plt.show()"
   ]
  },
  {
   "cell_type": "markdown",
   "metadata": {},
   "source": [
    "## Wnioski"
   ]
  },
  {
   "cell_type": "code",
   "execution_count": null,
   "metadata": {},
   "outputs": [],
   "source": []
  },
  {
   "cell_type": "code",
   "execution_count": null,
   "metadata": {},
   "outputs": [],
   "source": []
  }
 ],
 "metadata": {
  "kernelspec": {
   "display_name": "Python 3",
   "language": "python",
   "name": "python3"
  },
  "language_info": {
   "codemirror_mode": {
    "name": "ipython",
    "version": 3
   },
   "file_extension": ".py",
   "mimetype": "text/x-python",
   "name": "python",
   "nbconvert_exporter": "python",
   "pygments_lexer": "ipython3",
   "version": "3.8.8"
  }
 },
 "nbformat": 4,
 "nbformat_minor": 4
}
