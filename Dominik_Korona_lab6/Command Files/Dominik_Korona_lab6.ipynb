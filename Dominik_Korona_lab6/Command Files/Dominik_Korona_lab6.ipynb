{
 "cells": [
  {
   "cell_type": "markdown",
   "id": "749518a0",
   "metadata": {},
   "source": [
    "***Notatki***  \n",
    "df=pd.....\n",
    "Isposob\n",
    "df [ 'dni zakupu' ]  \n",
    "IIsposob  \n",
    "df.marka  \n",
    "  \n",
    "zwroci macierz ktorej opis se moge kopiowac  \n",
    "{\n",
    "df.info  \n",
    "powie zakres, ale nie pokaze unikalnych wartosci marki  \n",
    "jak chcemy marke, to:  \n",
    "df.marka.unique()  \n",
    "\n",
    "df.description  \n",
    "}\n",
    "\n",
    "df.marka.hist(bins=???)\n"
   ]
  },
  {
   "cell_type": "code",
   "execution_count": 1,
   "id": "9802b32f",
   "metadata": {},
   "outputs": [],
   "source": [
    "import pandas as pd\n",
    "# df = pd.read_csv(\"Dominik_Korona_lab5/Datasets/tb.csv\")"
   ]
  },
  {
   "cell_type": "code",
   "execution_count": 12,
   "id": "fe306bf7",
   "metadata": {
    "scrolled": true
   },
   "outputs": [],
   "source": [
    "\n",
    "df = pd.read_csv(\"C:/Users/Dell/Documents/GitHub/Dominik_analityczny/Dominik_Korona_lab6/Original Data/3_LUBUSKIE.csv\")\n",
    "# df = pd.read_csv(\"Original Data/3_LUBUSKIE.csv\")\n",
    "# df\n"
   ]
  },
  {
   "cell_type": "code",
   "execution_count": 13,
   "id": "b2332316",
   "metadata": {
    "scrolled": true
   },
   "outputs": [],
   "source": [
    "tab=[]\n",
    "j=0\n",
    "for i in df['Płeć kupującego']:\n",
    "    \n",
    "    if i==\"bd.\":\n",
    "        tab.append(j)\n",
    "    j += 1\n",
    "df = df.drop(tab)"
   ]
  },
  {
   "cell_type": "code",
   "execution_count": 14,
   "id": "06f90f2f",
   "metadata": {},
   "outputs": [],
   "source": [
    "# pozbycie sie wartosci NaN\n",
    "df = df.dropna()"
   ]
  },
  {
   "cell_type": "code",
   "execution_count": 15,
   "id": "f99da501",
   "metadata": {},
   "outputs": [],
   "source": [
    "df = df.rename(columns={'Unnamed: 0':\"ID\",'Dni od zakupu':\"Days from purchase\",'Marka':\"Mark\",\n",
    "                        'Wiek kupującego':\"Age\",'Płeć kupującego':\"Gender\",'Ocena':\"Rate\"})"
   ]
  },
  {
   "cell_type": "code",
   "execution_count": 16,
   "id": "5e615328",
   "metadata": {
    "scrolled": true
   },
   "outputs": [],
   "source": [
    "df = df.drop(\"Days from purchase\",axis=1)"
   ]
  },
  {
   "cell_type": "code",
   "execution_count": 17,
   "id": "b368fead",
   "metadata": {},
   "outputs": [],
   "source": [
    "# Zaokrąglenie wieku\n",
    "tab=[]\n",
    "for j in df[\"Age\"]:\n",
    "    tab.append(int(j))\n",
    "df[\"Age\"]=tab"
   ]
  },
  {
   "cell_type": "code",
   "execution_count": 18,
   "id": "5766d7e0",
   "metadata": {},
   "outputs": [
    {
     "data": {
      "text/html": [
       "<div>\n",
       "<style scoped>\n",
       "    .dataframe tbody tr th:only-of-type {\n",
       "        vertical-align: middle;\n",
       "    }\n",
       "\n",
       "    .dataframe tbody tr th {\n",
       "        vertical-align: top;\n",
       "    }\n",
       "\n",
       "    .dataframe thead th {\n",
       "        text-align: right;\n",
       "    }\n",
       "</style>\n",
       "<table border=\"1\" class=\"dataframe\">\n",
       "  <thead>\n",
       "    <tr style=\"text-align: right;\">\n",
       "      <th></th>\n",
       "      <th>ID</th>\n",
       "      <th>Mark</th>\n",
       "      <th>Age</th>\n",
       "      <th>Gender</th>\n",
       "      <th>Rate</th>\n",
       "    </tr>\n",
       "  </thead>\n",
       "  <tbody>\n",
       "    <tr>\n",
       "      <th>1</th>\n",
       "      <td>1</td>\n",
       "      <td>Dyson</td>\n",
       "      <td>48</td>\n",
       "      <td>M</td>\n",
       "      <td>4.0</td>\n",
       "    </tr>\n",
       "    <tr>\n",
       "      <th>2</th>\n",
       "      <td>2</td>\n",
       "      <td>Electrolux</td>\n",
       "      <td>41</td>\n",
       "      <td>M</td>\n",
       "      <td>3.0</td>\n",
       "    </tr>\n",
       "    <tr>\n",
       "      <th>3</th>\n",
       "      <td>3</td>\n",
       "      <td>Electrolux</td>\n",
       "      <td>29</td>\n",
       "      <td>K</td>\n",
       "      <td>2.0</td>\n",
       "    </tr>\n",
       "    <tr>\n",
       "      <th>4</th>\n",
       "      <td>4</td>\n",
       "      <td>Tefal</td>\n",
       "      <td>49</td>\n",
       "      <td>K</td>\n",
       "      <td>5.0</td>\n",
       "    </tr>\n",
       "    <tr>\n",
       "      <th>5</th>\n",
       "      <td>5</td>\n",
       "      <td>Samsung</td>\n",
       "      <td>53</td>\n",
       "      <td>K</td>\n",
       "      <td>2.5</td>\n",
       "    </tr>\n",
       "    <tr>\n",
       "      <th>...</th>\n",
       "      <td>...</td>\n",
       "      <td>...</td>\n",
       "      <td>...</td>\n",
       "      <td>...</td>\n",
       "      <td>...</td>\n",
       "    </tr>\n",
       "    <tr>\n",
       "      <th>513</th>\n",
       "      <td>513</td>\n",
       "      <td>Samsung</td>\n",
       "      <td>33</td>\n",
       "      <td>K</td>\n",
       "      <td>1.5</td>\n",
       "    </tr>\n",
       "    <tr>\n",
       "      <th>514</th>\n",
       "      <td>514</td>\n",
       "      <td>Electrolux</td>\n",
       "      <td>40</td>\n",
       "      <td>K</td>\n",
       "      <td>0.5</td>\n",
       "    </tr>\n",
       "    <tr>\n",
       "      <th>515</th>\n",
       "      <td>515</td>\n",
       "      <td>Electrolux</td>\n",
       "      <td>45</td>\n",
       "      <td>K</td>\n",
       "      <td>4.5</td>\n",
       "    </tr>\n",
       "    <tr>\n",
       "      <th>519</th>\n",
       "      <td>519</td>\n",
       "      <td>Electrolux</td>\n",
       "      <td>52</td>\n",
       "      <td>K</td>\n",
       "      <td>3.5</td>\n",
       "    </tr>\n",
       "    <tr>\n",
       "      <th>520</th>\n",
       "      <td>520</td>\n",
       "      <td>Tefal</td>\n",
       "      <td>57</td>\n",
       "      <td>M</td>\n",
       "      <td>1.5</td>\n",
       "    </tr>\n",
       "  </tbody>\n",
       "</table>\n",
       "<p>335 rows × 5 columns</p>\n",
       "</div>"
      ],
      "text/plain": [
       "      ID        Mark  Age Gender  Rate\n",
       "1      1       Dyson   48      M   4.0\n",
       "2      2  Electrolux   41      M   3.0\n",
       "3      3  Electrolux   29      K   2.0\n",
       "4      4       Tefal   49      K   5.0\n",
       "5      5     Samsung   53      K   2.5\n",
       "..   ...         ...  ...    ...   ...\n",
       "513  513     Samsung   33      K   1.5\n",
       "514  514  Electrolux   40      K   0.5\n",
       "515  515  Electrolux   45      K   4.5\n",
       "519  519  Electrolux   52      K   3.5\n",
       "520  520       Tefal   57      M   1.5\n",
       "\n",
       "[335 rows x 5 columns]"
      ]
     },
     "execution_count": 18,
     "metadata": {},
     "output_type": "execute_result"
    }
   ],
   "source": [
    "df"
   ]
  },
  {
   "cell_type": "markdown",
   "id": "e2ea4f76",
   "metadata": {},
   "source": [
    "***Mark***"
   ]
  },
  {
   "cell_type": "code",
   "execution_count": 19,
   "id": "1285d7af",
   "metadata": {
    "scrolled": true
   },
   "outputs": [
    {
     "name": "stdout",
     "output_type": "stream",
     "text": [
      "Counted Age: 49\n"
     ]
    },
    {
     "data": {
      "image/png": "[encoded data removed]",
      "text/plain": [
       "<Figure size 432x288 with 1 Axes>"
      ]
     },
     "metadata": {
      "needs_background": "light"
     },
     "output_type": "display_data"
    }
   ],
   "source": [
    "c = len(df.Age.unique())\n",
    "df.Age.hist(bins=c*3)\n",
    "print(\"Counted Age:\",c)"
   ]
  },
  {
   "cell_type": "markdown",
   "id": "98139ae9",
   "metadata": {},
   "source": [
    "***Gender***"
   ]
  },
  {
   "cell_type": "code",
   "execution_count": 20,
   "id": "92f8f431",
   "metadata": {},
   "outputs": [
    {
     "name": "stdout",
     "output_type": "stream",
     "text": [
      "Counted gender: 2\n"
     ]
    },
    {
     "data": {
      "image/png": "[encoded data removed]",
      "text/plain": [
       "<Figure size 432x288 with 1 Axes>"
      ]
     },
     "metadata": {
      "needs_background": "light"
     },
     "output_type": "display_data"
    }
   ],
   "source": [
    "df.Gender.hist(bins=3)\n",
    "print(\"Counted gender:\",len(df.Gender.unique()))\n"
   ]
  },
  {
   "cell_type": "code",
   "execution_count": 21,
   "id": "089b9b3a",
   "metadata": {},
   "outputs": [],
   "source": [
    "# df.Mark.unique()"
   ]
  },
  {
   "cell_type": "markdown",
   "id": "d6379033",
   "metadata": {},
   "source": [
    "***Age***"
   ]
  },
  {
   "cell_type": "code",
   "execution_count": 22,
   "id": "c4d7db1a",
   "metadata": {
    "scrolled": false
   },
   "outputs": [
    {
     "name": "stdout",
     "output_type": "stream",
     "text": [
      "Counted Age: 49\n"
     ]
    },
    {
     "data": {
      "image/png": "[encoded data removed]",
      "text/plain": [
       "<Figure size 432x288 with 1 Axes>"
      ]
     },
     "metadata": {
      "needs_background": "light"
     },
     "output_type": "display_data"
    }
   ],
   "source": [
    "c = len(df.Age.unique())\n",
    "df.Age.hist(bins=c*3)\n",
    "print(\"Counted Age:\",c)"
   ]
  },
  {
   "cell_type": "code",
   "execution_count": 23,
   "id": "e6cfe7b7",
   "metadata": {
    "scrolled": true
   },
   "outputs": [
    {
     "name": "stdout",
     "output_type": "stream",
     "text": [
      "Counted Rate: 11\n"
     ]
    },
    {
     "data": {
      "image/png": "[encoded data removed]",
      "text/plain": [
       "<Figure size 432x288 with 1 Axes>"
      ]
     },
     "metadata": {
      "needs_background": "light"
     },
     "output_type": "display_data"
    }
   ],
   "source": [
    "c = len(df.Rate.unique())\n",
    "df.Rate.hist(bins=c*2)\n",
    "print(\"Counted Rate:\",c)"
   ]
  },
  {
   "cell_type": "code",
   "execution_count": 43,
   "id": "ab563d16",
   "metadata": {},
   "outputs": [],
   "source": [
    "df.to_csv(path_or_buf=\"C:/Users/Dell/Documents/GitHub/Dominik_analityczny/Dominik_Korona_lab6/Analysis Data/Lubuskie_odkurzacze.csv\")"
   ]
  }
 ],
 "metadata": {
  "kernelspec": {
   "display_name": "Python 3",
   "language": "python",
   "name": "python3"
  },
  "language_info": {
   "codemirror_mode": {
    "name": "ipython",
    "version": 3
   },
   "file_extension": ".py",
   "mimetype": "text/x-python",
   "name": "python",
   "nbconvert_exporter": "python",
   "pygments_lexer": "ipython3",
   "version": "3.8.8"
  }
 },
 "nbformat": 4,
 "nbformat_minor": 5
}
